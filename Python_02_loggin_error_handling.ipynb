{
 "cells": [
  {
   "cell_type": "markdown",
   "metadata": {
    "collapsed": false,
    "jupyter": {
     "outputs_hidden": false
    }
   },
   "source": [
    "# Обробка помилок і дебаг, логування"
   ]
  },
  {
   "cell_type": "markdown",
   "metadata": {
    "collapsed": false,
    "jupyter": {
     "outputs_hidden": false
    }
   },
   "source": [
    "## Логування\n",
    "\n",
    "Логування є дуже корисним інструментом у наборі інструментів програміста. Це може допомогти вам краще зрозуміти потік програми та виявити сценарії, про які ви могли навіть не думати під час розробки.\n",
    "\n",
    "Логування надає розробникам додатковий набір очей, які постійно спостерігають за потоком, через який проходить програма. Вони можуть зберігати інформацію, наприклад, який користувач або яка IP-адреса отримала доступ до програми. Якщо сталася помилка, вони можуть надати більше інформації, ніж трасування стека, повідомляючи вам, у якому стані була програма до того, як вона прийшла до рядка коду, де сталася помилка.\n",
    "\n",
    "Для логування в python використовується модуль `logging`\n",
    "З детальною документацією можна ознайомитися тут [https://docs.python.org/3/library/logging.html](https://docs.python.org/3/library/logging.html)\n",
    "\n",
    "Існують наступні рівні логування\n",
    "`DEBUG`, `INFO`, `WARNING`, `ERROR`, `CRITICAL`\n"
   ]
  },
  {
   "cell_type": "markdown",
   "metadata": {
    "collapsed": false,
    "jupyter": {
     "outputs_hidden": false
    }
   },
   "source": [
    "Ініціалізувати логер можливо так\n",
    "```python\n",
    "logging.basicConfig(level=logging.DEBUG)\n",
    "```\n",
    "\n",
    "або для запису в файл\n",
    "\n",
    "```python\n",
    "logging.basicConfig(filename='app.log', filemode='w', format='%(name)s - %(levelname)s - %(message)s', level=logging.INFO)\n",
    "```"
   ]
  },
  {
   "cell_type": "markdown",
   "metadata": {
    "collapsed": false,
    "jupyter": {
     "outputs_hidden": false
    }
   },
   "source": [
    "Приклад використання\n",
    "```python\n",
    "import logging\n",
    "\n",
    "logging.debug('This is a debug message')\n",
    "logging.info('This is an info message')\n",
    "logging.warning('This is a warning message')\n",
    "logging.error('This is an error message')\n",
    "logging.critical('This is a critical message')\n",
    "```"
   ]
  },
  {
   "cell_type": "markdown",
   "metadata": {
    "collapsed": false,
    "jupyter": {
     "outputs_hidden": false
    }
   },
   "source": [
    "Рівень логування можливо задати функцією\n",
    "```python\n",
    "set_log_level(\"warning\")\n",
    "```\n",
    "\n",
    "##### Для логування можна задати власну конфігурацію.\n",
    "\n",
    "Приклад конфігурації `logger_config.ini`:\n",
    "\n",
    "```ini\n",
    "[loggers]\n",
    "keys=root, simpleExample\n",
    "\n",
    "[handlers]\n",
    "keys=console, file\n",
    "\n",
    "[formatters]\n",
    "keys=std_out\n",
    "\n",
    "[logger_root]\n",
    "handlers = console\n",
    "level = DEBUG\n",
    "\n",
    "[logger_simpleExample]\n",
    "handlers = console, file\n",
    "level = DEBUG\n",
    "qualname = simpleExample\n",
    "propagate = 0\n",
    "\n",
    "[handler_console]\n",
    "class = logging.StreamHandler\n",
    "level = DEBUG\n",
    "formatter = std_out\n",
    "\n",
    "[handler_file]\n",
    "class = logging.FileHandler\n",
    "kwargs = {\"filename\": \"app.log\"}\n",
    "level = DEBUG\n",
    "formatter = std_out\n",
    "\n",
    "[formatter_std_out]\n",
    "format = %(asctime)s %(name)-12s %(levelname)-8s %(message)s\n",
    "```\n",
    "\n",
    "Приклад використання конфігурації\n",
    "\n",
    "```python\n",
    "config.fileConfig(\"logger_config.ini\")\n",
    "log = logging.getLogger(\"simpleExample\")\n",
    "\n",
    "log.error('Unable to load kdtree from file')\n",
    "log.debug(f\"Some variable in prinf{variable}\")\n",
    "```\n",
    "\n",
    "#### Більше про printf-formatting\n",
    "\n",
    "[https://docs.python.org/3/library/stdtypes.html#printf-style-string-formatting](https://docs.python.org/3/library/stdtypes.html#printf-style-string-formatting)\n",
    "\n",
    "[https://realpython.com/python-f-strings/](https://realpython.com/python-f-strings/)\n",
    "\n"
   ]
  },
  {
   "cell_type": "markdown",
   "metadata": {
    "collapsed": false,
    "jupyter": {
     "outputs_hidden": false
    }
   },
   "source": [
    "Конфігурування можливо налаштувати за допомогою файлу конфігурації, або програмно за допомогою функцій. Приклад використання [https://docs.python.org/3/howto/logging-cookbook.html](https://docs.python.org/3/howto/logging-cookbook.html)\n"
   ]
  },
  {
   "cell_type": "markdown",
   "metadata": {
    "collapsed": false,
    "jupyter": {
     "outputs_hidden": false
    }
   },
   "source": [
    "## Обробка помилок і дебаг"
   ]
  },
  {
   "cell_type": "markdown",
   "metadata": {
    "collapsed": false,
    "jupyter": {
     "outputs_hidden": false
    }
   },
   "source": [
    "Обробка та усунення помилок, про які ви знаєте, допомагає коду плавно працювати без перерв. Якщо в будь-якому рядку коду трапляються помилки, їх усуває система обробки помилок, а потім код відновлює виконання.\n",
    "\n",
    "Ось приклад необробленої помилки"
   ]
  },
  {
   "cell_type": "code",
   "execution_count": null,
   "metadata": {
    "collapsed": false,
    "is_executing": true,
    "jupyter": {
     "outputs_hidden": false
    }
   },
   "outputs": [],
   "source": [
    "print(5/0)\n",
    "print(\"Done\")"
   ]
  },
  {
   "cell_type": "markdown",
   "metadata": {
    "collapsed": false,
    "jupyter": {
     "outputs_hidden": false
    }
   },
   "source": [
    "Приклад обробленої помилки"
   ]
  },
  {
   "cell_type": "code",
   "execution_count": null,
   "metadata": {
    "collapsed": false,
    "is_executing": true,
    "jupyter": {
     "outputs_hidden": false
    }
   },
   "outputs": [],
   "source": [
    "import logging\n",
    "\n",
    "try:\n",
    "    raise Exception(\"User called exception raise\")\n",
    "    print(5/0)\n",
    "    print(\"Done dividing\")\n",
    "except ZeroDivisionError as e:\n",
    "    logging.error(f\"{e} ; print(5/0)\")\n",
    "except Exception as err:\n",
    "    logging.error(err)\n",
    "else:\n",
    "    print(\"except block was not called\")\n",
    "finally:\n",
    "    print(\"Done with calculation\")\n",
    "\n",
    "print(\"All Done\")"
   ]
  },
  {
   "cell_type": "markdown",
   "metadata": {
    "collapsed": false,
    "jupyter": {
     "outputs_hidden": false
    }
   },
   "source": [
    "В прикладі вище блок коду який знаходиться в блоку `try` буде передавати контроль управління в блок `except` в разі виникнення помилки.\n",
    "Типів помилок може бути декілька і їх необхідно перераховувати в блоці except. Після обробки помилки контроль управління передається в блок `finally` (якщо зазначенний).\n",
    "\n",
    "Конструкція `raise` дозволяє створювати помилки власноруч.\n",
    "Блок `else` після `except` викликається якщо не було помилок в блоці try\n",
    "Блок `finally` викликається в будь-якому разі. Наприклад помилка під час обробки помилки в блоцы `except Exception as err:`\n",
    "\n",
    "В прикладі вище ми не побачимо обробки помилки ділення на нуль (`ZeroDivisionError`), тому що після рядку `raise Exception(\"User called exception raise\")` контроль передався в блок except і звідки в блок `finally`"
   ]
  },
  {
   "cell_type": "markdown",
   "source": [
    "Python всі класи помилок мають наслідуватися від класу `Exception` або одного з його субкласів. `BaseException` від якого наслідується `Exception` не рекомендується використовувати для власних помилок згідно специфікації [PEP-8](https://peps.python.org/pep-0008/#programming-recommendations). Винятками, успадкованими безпосередньо від BaseException, наразі є `KeyboardInterrupt`, `SystemExit` і `GeneratorExit`, які пов’язані із завершенням роботи програми, потоку або генератора/співпрограми."
   ],
   "metadata": {
    "collapsed": false
   }
  },
  {
   "cell_type": "markdown",
   "source": [
    "## Дебагінг\n"
   ],
   "metadata": {
    "collapsed": false
   }
  },
  {
   "cell_type": "markdown",
   "source": [
    "Дебагінг коду дозволяє слідкувати за виконанням потоку програми - змінними, контекстом, потоками і процесами виконання. Як проводити дебаг в сучасних IDE\n",
    "1. [IDE JetBrains Pycharm](https://www.jetbrains.com/help/pycharm/part-1-debugging-python-code.html)\n",
    "2. [Visual studio Code](https://code.visualstudio.com/docs/python/debugging)"
   ],
   "metadata": {
    "collapsed": false
   }
  },
  {
   "cell_type": "markdown",
   "source": [
    "## Практичне завдання\n",
    "\n",
    "1. Створити файл-конфіг для налаштування логування, в ньому зазначається рівень логування, хендлер, який записує в файл і консоль\n",
    "2. Створити власний тип для помилки (базується від класу Exception). Цей тип помилки має використовуватися для структури даних, яка була створена в попередньому ноутбуці для практичного завдання №3 у випадку помилки обчислення в функції `average`. Використати логгер з конфігурацією з першого пункту"
   ],
   "metadata": {
    "collapsed": false
   }
  },
  {
   "cell_type": "code",
   "execution_count": null,
   "outputs": [],
   "source": [],
   "metadata": {
    "collapsed": false
   }
  }
 ],
 "metadata": {
  "kernelspec": {
   "display_name": "Python 3 (ipykernel)",
   "language": "python",
   "name": "python3"
  },
  "language_info": {
   "codemirror_mode": {
    "name": "ipython",
    "version": 3
   },
   "file_extension": ".py",
   "mimetype": "text/x-python",
   "name": "python",
   "nbconvert_exporter": "python",
   "pygments_lexer": "ipython3",
   "version": "3.11.5"
  }
 },
 "nbformat": 4,
 "nbformat_minor": 4
}
