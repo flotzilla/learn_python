{
 "cells": [
  {
   "cell_type": "markdown",
   "source": [
    "## Lambda-оператори, map(), filter(), reduce(). Серіалізація даних, Pillow, Simplejson"
   ],
   "metadata": {
    "collapsed": false
   }
  },
  {
   "cell_type": "markdown",
   "source": [
    "Мова Python запозичила з функціонального програмування декілька концепцій, які спрощують життя програміста. Це Lambda-оператори, та функції map(), filter(), reduce().\n",
    "\n",
    "Лямбда-оператор - це невеличка анонімна функція. Вона може приймати на вхід декілька аргументів, але завжди має тільки один вираз. Нижче приклад функції, яка виконує зведення в квадрат"
   ],
   "metadata": {
    "collapsed": false
   }
  },
  {
   "cell_type": "code",
   "execution_count": 1,
   "outputs": [
    {
     "name": "stdout",
     "output_type": "stream",
     "text": [
      "16\n",
      "16\n"
     ]
    }
   ],
   "source": [
    "x = lambda a : a * a\n",
    "print(x(4))\n",
    "\n",
    "def sqr(a):\n",
    "    return a * a\n",
    "\n",
    "print(sqr(4))"
   ],
   "metadata": {
    "collapsed": false,
    "ExecuteTime": {
     "end_time": "2023-10-05T14:37:05.350813264Z",
     "start_time": "2023-10-05T14:37:05.345207093Z"
    }
   }
  },
  {
   "cell_type": "code",
   "execution_count": null,
   "outputs": [],
   "source": [],
   "metadata": {
    "collapsed": false
   }
  }
 ],
 "metadata": {
  "kernelspec": {
   "display_name": "Python 3",
   "language": "python",
   "name": "python3"
  },
  "language_info": {
   "codemirror_mode": {
    "name": "ipython",
    "version": 2
   },
   "file_extension": ".py",
   "mimetype": "text/x-python",
   "name": "python",
   "nbconvert_exporter": "python",
   "pygments_lexer": "ipython2",
   "version": "2.7.6"
  }
 },
 "nbformat": 4,
 "nbformat_minor": 0
}
