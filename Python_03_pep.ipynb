{
 "cells": [
  {
   "cell_type": "markdown",
   "source": [
    "# pip, pep, jupyter notebook, venv"
   ],
   "metadata": {
    "collapsed": false
   }
  },
  {
   "cell_type": "markdown",
   "source": [
    "В цьому ноутбуці розглянемо такі компоненти як:\n",
    "\n",
    "* **virtualenv або venv** - дозволяє використовувати ізольовані залежності для конкретного проєкту\n",
    "* **pep** - інсталятор пакетів/модулів\n",
    "* **pip** - Python Enhancement Proposals - специфікація стандартів мови python\n",
    "* **jupiter notebook** - інтерактивна платформа для запуску jupyter-ноутбуків, які поєднують в собі код і дані.\n"
   ],
   "metadata": {
    "collapsed": false
   }
  },
  {
   "cell_type": "markdown",
   "source": [
    "## Залежності\n",
    "\n",
    "Велика кількість бібліотек - наслідок популярності python. Як і в будь-якій дорослій екосистемі мови програмування, в python існують механізми що дозволяють ефективно керувати залежностями проєкту. Розглянемо типовий приклад.\n",
    "\n",
    "Наприклад існує необхідність використати бібліотеку pandas. В коді це виглядатиме так:\n",
    "\n",
    "```python\n",
    "import pandas\n",
    "```\n",
    "\n",
    "Щоб встановити потрібні залежності в проєкті в python використовується модуль pip. pip - це інсталятор а також менеджер версій\n",
    "\n",
    "`python -m pip install pandas`\n",
    "\n",
    "або\n",
    "\n",
    "`pip install pandas`\n",
    "\n",
    "Ми можемо вказати версію модуля, вказавши точну версію `packageName==1.0.4` або мінімальну версію `packageName>=1.0.4`\n",
    "\n",
    "### Файл залежностей - Requirements\n",
    "\n",
    "З ростом проєкту імпортованих модулів може стати дуже багато і постає проблема керування всіх залежностей пакетів а також їх версій. Для цього в python використовуються requirements-файли. Зазвичай файл зберігається в головній папці проєкт (модуля) і називається `requirements.txt`.\n",
    "\n",
    "```ini\n",
    "uvicorn\n",
    "tensorflow==2.3.1\n",
    "fastapi>=0.63.0\n",
    "```\n",
    "\n",
    "Синтаксис версій аналогічний тому, що використовується при встановленні модуля. Створити його можна власноруч вказавши назви модулів або виконати команду `pip freeze` яка зчитає всі модулі, імпортовані в поточному проєкті.\n",
    "\n",
    "`pip freeze > requirements.txt`\n",
    "\n",
    "Для того, щоб встановити модулі з файлу requirements потрібно виконати команду\n",
    "\n",
    "`pip install -r requirements.txt`\n",
    "\n",
    "### Як підтримувати requirements.txt в актуальному стані\n",
    "\n",
    "`pip list --outdated` переглянути чи існують останні версії модулів\n",
    "\n",
    "```\n",
    "Package                  Version                            Latest    Type\n",
    "------------------------ ---------------------------------- --------- -----\n",
    "absl-py                  1.4.0                              2.0.0     wheel\n",
    "alembic                  1.11.1                             1.12.0    wheel\n",
    "anyio                    3.7.0                              4.0.0     wheel\n",
    "anytree                  2.8.0                              2.9.0     wheel\n",
    "argcomplete              2.0.0                              3.1.2     wheel\n",
    "argon2-cffi              21.3.0                             23.1.0    wheel\n",
    "arrow                    1.2.3                              1.3.0     wheel\n",
    "asttokens                2.2.1                              2.4.0     wheel\n",
    "async-lru                2.0.2                              2.0.4     wheel\n",
    "attrs                    22.2.0                             23.1.0    wheel\n",
    "bitstring                3.1.9                              4.1.2     wheel\n",
    "```\n",
    "\n",
    "Для оновлення модуля виконаєм команду `pip install -U moduleName`\n",
    "\n",
    "Для всього файлу requirements виконаємо команду `pip install -U -r requirements.txt`\n",
    "\n",
    "### Загальні рекомендації\n",
    "\n",
    "* Завжди використовуйте команду `pip freeze`, щоб створити список модулів і пакетів Python, встановлених у віртуальному середовищі вашого проєкту. Це гарантує, що список актуальний і точний.\n",
    "* Вказуйте лише ті модулі та пакети Python, які потрібні вашому проєкту. Не слід додавити непотрібні модулі чи пакети, оскільки це робить файл txt роздутим і його важко читати.\n",
    "* Збережіть файл Python `requirements.txt` у git або іншій cvs, що полегчить роботу для всіх учасників прєкту\n",
    "* Використовуйте команду `pip install -r requirements.txt`, щоб встановити всі модулі та пакети Python, перелічені у вашому файлі requirements.txt. Це економить час і зусилля.\n",
    "* Підтримуйте актуальні та точні файли Python requirements.txt. Це гарантує, що ваш проект завжди використовує останні версії модулів і пакетів Python.\n"
   ],
   "metadata": {
    "collapsed": false
   }
  },
  {
   "cell_type": "markdown",
   "source": [
    "## Virtualenv"
   ],
   "metadata": {
    "collapsed": false
   }
  },
  {
   "cell_type": "markdown",
   "source": [
    "Virtualenv - це умовний прошарок, що дозволяє ізолювати залежності (бібліотеки) від операційної системи для кожного проєкту. Я"
   ],
   "metadata": {
    "collapsed": false
   }
  },
  {
   "cell_type": "code",
   "execution_count": null,
   "outputs": [],
   "source": [],
   "metadata": {
    "collapsed": false
   }
  }
 ],
 "metadata": {
  "kernelspec": {
   "display_name": "Python 3",
   "language": "python",
   "name": "python3"
  },
  "language_info": {
   "codemirror_mode": {
    "name": "ipython",
    "version": 2
   },
   "file_extension": ".py",
   "mimetype": "text/x-python",
   "name": "python",
   "nbconvert_exporter": "python",
   "pygments_lexer": "ipython2",
   "version": "2.7.6"
  }
 },
 "nbformat": 4,
 "nbformat_minor": 0
}
