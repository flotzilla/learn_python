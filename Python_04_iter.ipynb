{
 "cells": [
  {
   "cell_type": "markdown",
   "source": [
    "##  Ітератори, генератори, декоратори, контекстний менеджер"
   ],
   "metadata": {
    "collapsed": false
   }
  },
  {
   "cell_type": "markdown",
   "source": [
    "Ітератор - це об'єкт що дозволяє обходити всі елементи колекції. Прикладами таких колекцій в python є списки, кортежи(tuple), сети і словники. Для того, щоб реалізувати ітератор в python, необхідно щоб реалізація цієї структури мала імплементацію таких методів як `__iter__`, `__next__`. Розглянемо наступний приклад:"
   ],
   "metadata": {
    "collapsed": false
   }
  },
  {
   "cell_type": "code",
   "execution_count": 2,
   "outputs": [
    {
     "name": "stdout",
     "output_type": "stream",
     "text": [
      "4\n",
      "5\n",
      "0\n"
     ]
    }
   ],
   "source": [
    "my_list = [4, 5, 0]\n",
    "\n",
    "# типове використання ітератора\n",
    "for el in my_list:\n",
    "    print(el)"
   ],
   "metadata": {
    "collapsed": false,
    "ExecuteTime": {
     "end_time": "2023-10-03T07:32:57.983485074Z",
     "start_time": "2023-10-03T07:32:57.973486897Z"
    }
   }
  },
  {
   "cell_type": "markdown",
   "source": [
    "В python ми можемо використати функцію `next()` для отримання наступного елементу в послідовності"
   ],
   "metadata": {
    "collapsed": false
   }
  },
  {
   "cell_type": "code",
   "execution_count": 8,
   "outputs": [
    {
     "name": "stdout",
     "output_type": "stream",
     "text": [
      "4\n",
      "5\n",
      "0\n"
     ]
    }
   ],
   "source": [
    "iterator = iter(my_list)\n",
    "\n",
    "# маємо аналогічний результат\n",
    "print(next(iterator))\n",
    "print(next(iterator))\n",
    "print(next(iterator))"
   ],
   "metadata": {
    "collapsed": false,
    "ExecuteTime": {
     "end_time": "2023-10-03T07:38:24.133996434Z",
     "start_time": "2023-10-03T07:38:24.087156092Z"
    }
   }
  },
  {
   "cell_type": "markdown",
   "source": [
    "Ітератори також можливо використовувати в циклах, де необхідно передати ітеруємий об'єкт на вхід"
   ],
   "metadata": {
    "collapsed": false
   }
  },
  {
   "cell_type": "code",
   "execution_count": 9,
   "outputs": [
    {
     "name": "stdout",
     "output_type": "stream",
     "text": [
      "4\n",
      "5\n",
      "0\n"
     ]
    }
   ],
   "source": [
    "iterator = iter(my_list)\n",
    "\n",
    "for el in iterator:\n",
    "    print(el)"
   ],
   "metadata": {
    "collapsed": false,
    "ExecuteTime": {
     "end_time": "2023-10-03T07:40:24.400208875Z",
     "start_time": "2023-10-03T07:40:24.388550279Z"
    }
   }
  },
  {
   "cell_type": "markdown",
   "source": [
    "Приклад реалізації ітеруємого об'єкту"
   ],
   "metadata": {
    "collapsed": false
   }
  },
  {
   "cell_type": "code",
   "execution_count": 37,
   "outputs": [
    {
     "name": "stdout",
     "output_type": "stream",
     "text": [
      "{'time': '03/10/2023, 11:59', 'text': 'Мій перший запис у щоденичок'}\n",
      "{'time': '03/10/2023, 11:59', 'text': 'Ділюся своїми враженнями за сьогоднішній день'}\n"
     ]
    }
   ],
   "source": [
    "import datetime\n",
    "\n",
    "class Dairy:\n",
    "\n",
    "    def __init__(self):\n",
    "        self._notes = []\n",
    "        self._index = 0\n",
    "\n",
    "    def add_note(self, text) -> None:\n",
    "        # додаємо елементи в список з вказанням часу\n",
    "        self._notes.append({\n",
    "            \"time\": datetime.datetime.now().strftime(\"%d/%m/%Y, %H:%M\"),\n",
    "            \"text\": text\n",
    "        })\n",
    "\n",
    "    def __iter__(self):\n",
    "        # будьте уважними, якщо не вказати індекс 0, то після першого використання цього класу (наприклад в циклі)\n",
    "        # ітератор не буде виводи ніяких даних\n",
    "        self._index = 0\n",
    "        return self\n",
    "\n",
    "    def __next__(self):\n",
    "        if self._index < len (self._notes):\n",
    "            item = self._notes[self._index]\n",
    "            self._index += 1\n",
    "            return item\n",
    "        else:\n",
    "            # StopIteration зазвичай підіймається (raise) подається у випадку закінчення проходження ітератору для його зупинки\n",
    "            # якщо не вказати явно, то ітерація буде бе\n",
    "            raise StopIteration\n",
    "\n",
    "my_dairy = Dairy()\n",
    "my_dairy.add_note(\"Мій перший запис у щоденичок\")\n",
    "my_dairy.add_note(\"Ділюся своїми враженнями за сьогоднішній день\")\n",
    "\n",
    "\n",
    "for el in my_dairy:\n",
    "    print(el)\n",
    "\n"
   ],
   "metadata": {
    "collapsed": false,
    "ExecuteTime": {
     "end_time": "2023-10-03T08:59:12.913597342Z",
     "start_time": "2023-10-03T08:59:12.872563320Z"
    }
   }
  },
  {
   "cell_type": "markdown",
   "source": [
    "Подивитися більш поширені способи використання ітераторів можна [тут](https://realpython.com/python-iterators-iterables/)\n",
    "\n"
   ],
   "metadata": {
    "collapsed": false
   }
  },
  {
   "cell_type": "markdown",
   "source": [],
   "metadata": {
    "collapsed": false
   }
  }
 ],
 "metadata": {
  "kernelspec": {
   "display_name": "Python 3",
   "language": "python",
   "name": "python3"
  },
  "language_info": {
   "codemirror_mode": {
    "name": "ipython",
    "version": 2
   },
   "file_extension": ".py",
   "mimetype": "text/x-python",
   "name": "python",
   "nbconvert_exporter": "python",
   "pygments_lexer": "ipython2",
   "version": "2.7.6"
  }
 },
 "nbformat": 4,
 "nbformat_minor": 0
}
