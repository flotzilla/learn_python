{
 "cells": [
  {
   "cell_type": "markdown",
   "source": [
    "##  Ітератори, генератори, ітераторні функції"
   ],
   "metadata": {
    "collapsed": false
   }
  },
  {
   "cell_type": "markdown",
   "source": [
    "Ітератор - це об'єкт що дозволяє обходити всі елементи колекції. Прикладами таких колекцій в python є списки, кортежи(tuple), сети і словники. Для того, щоб реалізувати ітератор в python, необхідно щоб реалізація цієї структури мала імплементацію таких методів як `__iter__`, `__next__`. Розглянемо наступний приклад:"
   ],
   "metadata": {
    "collapsed": false
   }
  },
  {
   "cell_type": "code",
   "execution_count": 2,
   "outputs": [
    {
     "name": "stdout",
     "output_type": "stream",
     "text": [
      "4\n",
      "5\n",
      "0\n"
     ]
    }
   ],
   "source": [
    "my_list = [4, 5, 0]\n",
    "\n",
    "# типове використання ітератора\n",
    "for el in my_list:\n",
    "    print(el)"
   ],
   "metadata": {
    "collapsed": false,
    "ExecuteTime": {
     "end_time": "2023-10-03T07:32:57.983485074Z",
     "start_time": "2023-10-03T07:32:57.973486897Z"
    }
   }
  },
  {
   "cell_type": "markdown",
   "source": [
    "В python ми можемо використати функцію `next()` для отримання наступного елементу в послідовності"
   ],
   "metadata": {
    "collapsed": false
   }
  },
  {
   "cell_type": "code",
   "execution_count": 8,
   "outputs": [
    {
     "name": "stdout",
     "output_type": "stream",
     "text": [
      "4\n",
      "5\n",
      "0\n"
     ]
    }
   ],
   "source": [
    "iterator = iter(my_list)\n",
    "\n",
    "# маємо аналогічний результат\n",
    "print(next(iterator))\n",
    "print(next(iterator))\n",
    "print(next(iterator))"
   ],
   "metadata": {
    "collapsed": false,
    "ExecuteTime": {
     "end_time": "2023-10-03T07:38:24.133996434Z",
     "start_time": "2023-10-03T07:38:24.087156092Z"
    }
   }
  },
  {
   "cell_type": "markdown",
   "source": [
    "Ітератори також можливо використовувати в циклах, де необхідно передати ітеруємий об'єкт на вхід"
   ],
   "metadata": {
    "collapsed": false
   }
  },
  {
   "cell_type": "code",
   "execution_count": 9,
   "outputs": [
    {
     "name": "stdout",
     "output_type": "stream",
     "text": [
      "4\n",
      "5\n",
      "0\n"
     ]
    }
   ],
   "source": [
    "iterator = iter(my_list)\n",
    "\n",
    "for el in iterator:\n",
    "    print(el)"
   ],
   "metadata": {
    "collapsed": false,
    "ExecuteTime": {
     "end_time": "2023-10-03T07:40:24.400208875Z",
     "start_time": "2023-10-03T07:40:24.388550279Z"
    }
   }
  },
  {
   "cell_type": "markdown",
   "source": [
    "Приклад реалізації ітеруємого об'єкту"
   ],
   "metadata": {
    "collapsed": false
   }
  },
  {
   "cell_type": "code",
   "execution_count": 37,
   "outputs": [
    {
     "name": "stdout",
     "output_type": "stream",
     "text": [
      "{'time': '03/10/2023, 11:59', 'text': 'Мій перший запис у щоденичок'}\n",
      "{'time': '03/10/2023, 11:59', 'text': 'Ділюся своїми враженнями за сьогоднішній день'}\n"
     ]
    }
   ],
   "source": [
    "import datetime\n",
    "\n",
    "class Dairy:\n",
    "\n",
    "    def __init__(self):\n",
    "        self._notes = []\n",
    "        self._index = 0\n",
    "\n",
    "    def add_note(self, text) -> None:\n",
    "        # додаємо елементи в список з вказанням часу\n",
    "        self._notes.append({\n",
    "            \"time\": datetime.datetime.now().strftime(\"%d/%m/%Y, %H:%M\"),\n",
    "            \"text\": text\n",
    "        })\n",
    "\n",
    "    def __iter__(self):\n",
    "        # будьте уважними, якщо не вказати індекс 0, то після першого використання цього класу (наприклад в циклі)\n",
    "        # ітератор не буде виводи ніяких даних\n",
    "        self._index = 0\n",
    "        return self\n",
    "\n",
    "    def __next__(self):\n",
    "        if self._index < len (self._notes):\n",
    "            item = self._notes[self._index]\n",
    "            self._index += 1\n",
    "            return item\n",
    "        else:\n",
    "            # StopIteration зазвичай підіймається (raise) подається у випадку закінчення проходження ітератору для його зупинки\n",
    "            # якщо не вказати явно, то ітерація буде бе\n",
    "            raise StopIteration\n",
    "\n",
    "my_dairy = Dairy()\n",
    "my_dairy.add_note(\"Мій перший запис у щоденичок\")\n",
    "my_dairy.add_note(\"Ділюся своїми враженнями за сьогоднішній день\")\n",
    "\n",
    "\n",
    "for el in my_dairy:\n",
    "    print(el)\n",
    "\n"
   ],
   "metadata": {
    "collapsed": false,
    "ExecuteTime": {
     "end_time": "2023-10-03T08:59:12.913597342Z",
     "start_time": "2023-10-03T08:59:12.872563320Z"
    }
   }
  },
  {
   "cell_type": "markdown",
   "source": [
    "Подивитися більш поширені способи використання ітераторів можна [тут](https://realpython.com/python-iterators-iterables/)"
   ],
   "metadata": {
    "collapsed": false
   }
  },
  {
   "cell_type": "markdown",
   "source": [
    "### list comprehension\n",
    "В python існує зручний інструмент для роботи зі списками - list comprehension, який дозволяє мінімізувати написання коду. Нижче вказані два приклади які дають одий і той же результат - створити новий список зі списку фруктів, в яких присутня літера `a`. і елементи нового списку мають бути прописними (записані з великої літери)"
   ],
   "metadata": {
    "collapsed": false
   }
  },
  {
   "cell_type": "code",
   "execution_count": 49,
   "outputs": [
    {
     "name": "stdout",
     "output_type": "stream",
     "text": [
      "['БАНАН', 'КАВУН']\n",
      "['БАНАН', 'КАВУН']\n"
     ]
    }
   ],
   "source": [
    "fruits = [\"яблуко\", \"банан\", \"вишня\", \"кавун\", \"черешня\"]\n",
    "newlist = []\n",
    "\n",
    "for x in fruits:\n",
    "    # Літера 'а' з кирилиці\n",
    "    if \"а\" in x:\n",
    "        newlist.append(x.upper())\n",
    "\n",
    "print(newlist)\n",
    "\n",
    "# використовуючи list comprehension\n",
    "\n",
    "fruits = [\"яблуко\", \"банан\", \"вишня\", \"кавун\", \"черешня\"]\n",
    "# Розгянемо вираз нижче - для кожного елементу х в списку fruits - (for x in fruits) повертаємо значення (x.upper()) якщо виконується умова (if \"а\" in x).\n",
    "# З цих елементів формується новий список []\n",
    "newlist = [x.upper() for x in fruits if \"а\" in x]\n",
    "\n",
    "print(newlist)\n"
   ],
   "metadata": {
    "collapsed": false,
    "ExecuteTime": {
     "end_time": "2023-10-03T09:53:28.685262746Z",
     "start_time": "2023-10-03T09:53:28.639441491Z"
    }
   }
  },
  {
   "cell_type": "markdown",
   "source": [
    "## Генератори\n",
    "[Генератори](https://peps.python.org/pep-0255/) - це функція, яка може надавати (yield) значення при виклику декілька разів замість того, щоб повертати його лише один раз. Це виглядає як звичайна функція, за винятком того, що вона містить вирази `yield` для створення серії значень, які можна використовувати в циклі for або які можна отримати по одному за допомогою функції next().\n",
    "\n",
    "В Python генератор — це функція, яка повертає ітератор, який створює послідовність значень під час її ітерації. Генератори корисні, коли ми хочемо створити велику послідовність значень, але ми не хочемо зберігати всі їх у пам’яті одночасно. Це може бути корисно для обробки великої послідовності даних.\n",
    "\n",
    "В Python зазвичай використовується термін генератор для спільного позначення двох окремих понять: **функції генератора** та **ітератора-генератора**. Функція генератора — це функція, яку ви визначаєте за допомогою оператора yield. Ітератор-генератор це те що ця функція повертає.\n",
    "\n",
    "Ниже вказаний приклад функції розрахунку послідовності Фібоначі за допомогою генератора\n"
   ],
   "metadata": {
    "collapsed": false
   }
  },
  {
   "cell_type": "code",
   "execution_count": 59,
   "outputs": [
    {
     "data": {
      "text/plain": "[0, 1, 1, 2, 3, 5, 8, 13, 21, 34]"
     },
     "execution_count": 59,
     "metadata": {},
     "output_type": "execute_result"
    }
   ],
   "source": [
    "def fib(n):\n",
    "    a, b = 0, 1\n",
    "    for _ in range(n):\n",
    "        yield a\n",
    "        a, b = b, a + b\n",
    "\n",
    "list(fib(10))"
   ],
   "metadata": {
    "collapsed": false,
    "ExecuteTime": {
     "end_time": "2023-10-03T10:00:38.186771228Z",
     "start_time": "2023-10-03T10:00:38.177348003Z"
    }
   }
  },
  {
   "cell_type": "markdown",
   "source": [
    "Окрім написання функцій генератора, python дозволяє написання однорядкових виразів-генераторів."
   ],
   "metadata": {
    "collapsed": false
   }
  },
  {
   "cell_type": "code",
   "execution_count": 39,
   "outputs": [
    {
     "name": "stdout",
     "output_type": "stream",
     "text": [
      "[1, 2, 3, 4]\n",
      "<generator object <genexpr> at 0x7f2101a2a330>\n",
      "1\n",
      "2\n",
      "3\n",
      "4\n"
     ]
    }
   ],
   "source": [
    "#  list comprehension\n",
    "print([item for item in [1, 2, 3, 4]])\n",
    "\n",
    "# однорядковий вираз-генератор\n",
    "print((item for item in [1, 2, 3, 4]))"
   ],
   "metadata": {
    "collapsed": false,
    "ExecuteTime": {
     "end_time": "2023-10-03T09:31:28.690259230Z",
     "start_time": "2023-10-03T09:31:28.684416736Z"
    }
   }
  },
  {
   "cell_type": "markdown",
   "source": [
    "### Переваги генераторів\n",
    "\n",
    "1. Простота в реалізації. Навідміну від ітераторів, для генератора не потрібно реалізовувати спеціальний клас з методами `__iter__` і `__next__`. Достатьно лише функції або однорядкового виразу"
   ],
   "metadata": {
    "collapsed": false
   }
  },
  {
   "cell_type": "code",
   "execution_count": 64,
   "outputs": [],
   "source": [
    "def PowTwoGen(max=0):\n",
    "    n = 0\n",
    "    while n < max:\n",
    "        yield 2 ** n\n",
    "        n += 1"
   ],
   "metadata": {
    "collapsed": false,
    "ExecuteTime": {
     "end_time": "2023-10-03T12:56:35.768498361Z",
     "start_time": "2023-10-03T12:56:35.727386342Z"
    }
   }
  },
  {
   "cell_type": "markdown",
   "source": [
    "\n",
    "2. Ресурсоефективність. Використання генераторів дозволяє економити пам'ять. При звичайній обробці вся структура завантажується в пам'ять. Використання генераторів дозволяє обробляти елементи по одному, цим самим економить пам'ять.\n",
    "3. Представляють нескінченний потік. Генератори є чудовим середовищем для представлення нескінченного потоку даних. Нескінченні потоки не можна зберігати в пам'яті, і оскільки генератори створюють лише один елемент за раз, вони можуть представляти нескінченний потік даних."
   ],
   "metadata": {
    "collapsed": false
   }
  },
  {
   "cell_type": "code",
   "execution_count": 65,
   "outputs": [],
   "source": [
    "def all_even():\n",
    "    n = 0\n",
    "    while True:\n",
    "        yield n\n",
    "        n += 2"
   ],
   "metadata": {
    "collapsed": false,
    "ExecuteTime": {
     "end_time": "2023-10-03T12:56:37.128522982Z",
     "start_time": "2023-10-03T12:56:37.123711807Z"
    }
   }
  },
  {
   "cell_type": "markdown",
   "source": [
    "4. Конвеєрні генератори або пайплайни\n",
    "\n",
    "Кілька генераторів можна використовувати для конвеєрної серії операцій. Найкраще це можна проілюструвати на прикладі.\n",
    "\n",
    "Припустімо, що у нас є генератор, який створює числа в ряді Фібоначчі. І у нас є інший генератор для зведення чисел у квадрат.\n",
    "\n",
    "Якщо ми хочемо дізнатися суму квадратів чисел у ряді Фібоначчі, ми можемо зробити це в такий спосіб, об’єднавши разом вихідні дані генераторних функцій.\n"
   ],
   "metadata": {
    "collapsed": false
   }
  },
  {
   "cell_type": "code",
   "execution_count": 66,
   "outputs": [
    {
     "name": "stdout",
     "output_type": "stream",
     "text": [
      "4895\n"
     ]
    }
   ],
   "source": [
    "def fib(nums):\n",
    "    x, y = 0, 1\n",
    "    for _ in range(nums):\n",
    "        x, y = y, x+y\n",
    "        yield x\n",
    "\n",
    "def square(nums):\n",
    "    for num in nums:\n",
    "        yield num**2\n",
    "\n",
    "print(sum(square(fib(10))))"
   ],
   "metadata": {
    "collapsed": false,
    "ExecuteTime": {
     "end_time": "2023-10-03T12:56:38.624668007Z",
     "start_time": "2023-10-03T12:56:38.615934461Z"
    }
   }
  },
  {
   "cell_type": "markdown",
   "source": [
    "## Вбудовані функції\n",
    "Мова python пропонує безліч допоміжних засобів прямо \"з коробки\", які значно полегчують типові задачі"
   ],
   "metadata": {
    "collapsed": false
   }
  },
  {
   "cell_type": "markdown",
   "source": [
    "#### .reverse() і reversed()\n",
    "\n",
    "В python існує функція обходу послідовної структури даних в зворотному порядку, навіть дві) Перша з них це `.reserve()`"
   ],
   "metadata": {
    "collapsed": false
   }
  },
  {
   "cell_type": "code",
   "execution_count": 86,
   "outputs": [
    {
     "data": {
      "text/plain": "[9, 8, 7, 6, 5, 4, 3, 2, 1, 0]"
     },
     "execution_count": 86,
     "metadata": {},
     "output_type": "execute_result"
    }
   ],
   "source": [
    "digits = [0, 1, 2, 3, 4, 5, 6, 7, 8, 9]\n",
    "\n",
    "digits.reverse()\n",
    "digits"
   ],
   "metadata": {
    "collapsed": false,
    "ExecuteTime": {
     "end_time": "2023-10-03T14:49:51.544501159Z",
     "start_time": "2023-10-03T14:49:51.502659496Z"
    }
   }
  },
  {
   "cell_type": "markdown",
   "source": [
    "Інша це `reversed()`\n"
   ],
   "metadata": {
    "collapsed": false
   }
  },
  {
   "cell_type": "code",
   "execution_count": 87,
   "outputs": [
    {
     "name": "stdout",
     "output_type": "stream",
     "text": [
      "<list_reverseiterator object at 0x7f20ddf125f0>\n",
      "[0, 1, 2, 3, 4, 5, 6, 7, 8, 9]\n"
     ]
    }
   ],
   "source": [
    "rev_digits = reversed(digits)\n",
    "print(rev_digits)\n",
    "print(list(rev_digits))"
   ],
   "metadata": {
    "collapsed": false,
    "ExecuteTime": {
     "end_time": "2023-10-03T14:49:53.411383880Z",
     "start_time": "2023-10-03T14:49:53.400492507Z"
    }
   }
  },
  {
   "cell_type": "markdown",
   "source": [
    "Основна відмінність в тому, що `reverse()` модифікує існуючу зміну, а `reversed()` створює копію"
   ],
   "metadata": {
    "collapsed": false
   }
  },
  {
   "cell_type": "markdown",
   "source": [
    "`any(iterable)` - повертає True, якщо будь-який елемент iterable є true. Якщо iterable порожній, повертає False. Еквівалентно наступному"
   ],
   "metadata": {
    "collapsed": false
   }
  },
  {
   "cell_type": "code",
   "execution_count": 88,
   "outputs": [],
   "source": [
    "def any(iterable):\n",
    "    for element in iterable:\n",
    "        if element:\n",
    "            return True\n",
    "    return False"
   ],
   "metadata": {
    "collapsed": false,
    "ExecuteTime": {
     "end_time": "2023-10-03T14:49:59.100453571Z",
     "start_time": "2023-10-03T14:49:59.089202513Z"
    }
   }
  },
  {
   "cell_type": "markdown",
   "source": [
    "`all(iterable)` - Повертає True, якщо всі елементи iterable є true (або якщо iterable порожній). Еквівалентно наступному"
   ],
   "metadata": {
    "collapsed": false
   }
  },
  {
   "cell_type": "code",
   "execution_count": 89,
   "outputs": [],
   "source": [
    "def all(iterable):\n",
    "    for element in iterable:\n",
    "        if not element:\n",
    "            return False\n",
    "    return True"
   ],
   "metadata": {
    "collapsed": false,
    "ExecuteTime": {
     "end_time": "2023-10-03T14:50:00.102127944Z",
     "start_time": "2023-10-03T14:50:00.095415540Z"
    }
   }
  },
  {
   "cell_type": "markdown",
   "source": [
    "`enumerate(iterable, start=0)` - Повертає об'єкт перерахування. iterable має бути послідовністю, ітератором або іншим об’єктом, який підтримує ітерацію. Метод __next__() ітератора, який повертає enumerate(), повертає кортеж, що містить лічильник (від початку, який за замовчуванням дорівнює 0) і значення, отримані в результаті ітерації над iterable. Приклад використання:"
   ],
   "metadata": {
    "collapsed": false
   }
  },
  {
   "cell_type": "code",
   "execution_count": 90,
   "outputs": [
    {
     "data": {
      "text/plain": "[(0, 'Весна'), (1, 'Літо'), (2, 'Осінь'), (3, 'Зима')]"
     },
     "execution_count": 90,
     "metadata": {},
     "output_type": "execute_result"
    }
   ],
   "source": [
    "seasons = [\"Весна\", \"Літо\", \"Осінь\", \"Зима\"]\n",
    "list(enumerate(seasons))"
   ],
   "metadata": {
    "collapsed": false,
    "ExecuteTime": {
     "end_time": "2023-10-03T14:50:01.387996030Z",
     "start_time": "2023-10-03T14:50:01.380149050Z"
    }
   }
  },
  {
   "cell_type": "markdown",
   "source": [
    "`max()`, `min()` - повертає найбільше або найменше значення. Аргументами функції можуть бути як декілька перерахованих через кому значень, або обьект типу iтератора. В разі несумісності порівнюємих типів поверне помилку `ValueError`"
   ],
   "metadata": {
    "collapsed": false
   }
  },
  {
   "cell_type": "code",
   "execution_count": 95,
   "outputs": [
    {
     "name": "stdout",
     "output_type": "stream",
     "text": [
      "33\n",
      "10\n"
     ]
    }
   ],
   "source": [
    "print(max(10, 22, 33))\n",
    "print(min([10, 22, 17]))"
   ],
   "metadata": {
    "collapsed": false,
    "ExecuteTime": {
     "end_time": "2023-10-03T14:51:16.552224914Z",
     "start_time": "2023-10-03T14:51:16.546242355Z"
    }
   }
  },
  {
   "cell_type": "markdown",
   "source": [
    "`sum(iterable, start=0)` - функція для сумування чисел. Для додавання рядків, більш доцільним інструментом буде використання конструкції `''.join(sequence)`. Також в якості 2 аргументу можливо початкове число до якого будуть додані результати проходу по ітеруємому об'єкту"
   ],
   "metadata": {
    "collapsed": false
   }
  },
  {
   "cell_type": "code",
   "execution_count": 96,
   "outputs": [
    {
     "data": {
      "text/plain": "156"
     },
     "execution_count": 96,
     "metadata": {},
     "output_type": "execute_result"
    }
   ],
   "source": [
    "sum((1, 22, 33), 100)"
   ],
   "metadata": {
    "collapsed": false,
    "ExecuteTime": {
     "end_time": "2023-10-03T15:39:10.611056400Z",
     "start_time": "2023-10-03T15:39:10.475017268Z"
    }
   }
  },
  {
   "cell_type": "markdown",
   "source": [
    " `zip(iterable, iterable)` - функція для паралельної ітерації одночасно двух ітераторів. На виході функції буде кортеж (tuple) об`єднення цих двух об'єтів ітерації."
   ],
   "metadata": {
    "collapsed": false
   }
  },
  {
   "cell_type": "code",
   "execution_count": 2,
   "outputs": [
    {
     "name": "stdout",
     "output_type": "stream",
     "text": [
      "[(0, 'Перший'), (1, 'Другий'), (2, 'Третій')]\n",
      "[(26, 'z'), (25, 'y'), (24, 'x'), (23, 'w'), (22, 'v'), (21, 'u'), (20, 't'), (19, 's'), (18, 'r'), (17, 'q'), (16, 'p'), (15, 'o'), (14, 'n'), (13, 'm'), (12, 'l'), (11, 'k'), (10, 'j'), (9, 'i'), (8, 'h'), (7, 'g'), (6, 'f'), (5, 'e'), (4, 'd'), (3, 'c'), (2, 'b'), (1, 'a')]\n",
      "[(1, 'Київ', 2967360), (2, 'Харків', 1443207), (3, 'Одеса', 1017699)]\n"
     ]
    }
   ],
   "source": [
    "print(list(zip(range(3), ['Перший','Другий','Третій',])))\n",
    "\n",
    "## алфавіт в зворотньому порядку\n",
    "abc = ['a', 'b', 'c', 'd', 'e', 'f', 'g', 'h', 'i', 'j', 'k', 'l', 'm', 'n', 'o', 'p', 'q', 'r', 's', 't', 'u', 'v', 'w', 'x', 'y', 'z']\n",
    "print(list(zip(reversed(range(1, 27)), reversed(abc))))\n",
    "\n",
    "# об'єднання списків міст України та кількості населення\n",
    "print(list(zip(range(1,4), (\"Київ\", \"Харків\", \"Одеса\"), (2967360, 1443207 , 1017699))))"
   ],
   "metadata": {
    "collapsed": false,
    "ExecuteTime": {
     "end_time": "2023-10-05T10:46:32.262677896Z",
     "start_time": "2023-10-05T10:46:32.206054899Z"
    }
   }
  },
  {
   "cell_type": "markdown",
   "source": [
    "## Ітераратори і ітеруємі об'єкти\n",
    "\n",
    "Про ітератори було сказано вище вже багато. Розглянемо тепер що таке ітеруємі об'єкти. Чисті ітеровані об’єкти зазвичай містять дані самі. Наприклад, вбудовані типи контейнерів Python, такі як списки, кортежі, словники та набори, є об’єктами, які можна повторювати. Вони забезпечують потік даних. Python очікує ітеровані об’єкти у кількох різних контекстах, найважливішим з яких є цикл for. Ітерації також очікуються в операціях розпакування та у вбудованих функціях, таких як `all()`, `any()`, `enumerate()`, `max()`, `min()`, `len()`, `zip()`, `sum()`, `map()` і `filter()` (про дві останні функції в наступному блокноті).\n",
    "\n",
    " Ітеруємі об'єкти мають метод `.__iter__()`, який створює елементи на вимогу. Ітератори реалізують метод `.__iter__()`, який зазвичай повертає `self`, і метод `.__next__()`, який повертає елемент під час кожного виклику. Відповідно до цієї внутрішньої структури можна зробити висновок, що всі ітератори є ітерованими, оскільки вони відповідають ітераційному протоколу. Однак не всі ітератори є ітераторами — **лише ті, що реалізують метод `.__next__()`."
   ],
   "metadata": {
    "collapsed": false
   }
  },
  {
   "cell_type": "code",
   "execution_count": 3,
   "outputs": [
    {
     "name": "stdout",
     "output_type": "stream",
     "text": [
      "34 ітеруємий: False\n",
      "[4, 5] ітеруємий: True\n",
      "(4, 5) ітеруємий: True\n",
      "{'a': 4} ітеруємий: True\n",
      "dfsdf ітеруємий: True\n",
      "4.5 ітеруємий: False\n"
     ]
    }
   ],
   "source": [
    "# Перевірка перевірки чи є об'єкт ітеруємим\n",
    "def it(ob):\n",
    "  try:\n",
    "      iter(ob)\n",
    "      return True\n",
    "  except TypeError:\n",
    "      return False\n",
    "\n",
    "for i in [34, [4, 5], (4, 5), {\"a\":4}, \"dfsdf\", 4.5]:\n",
    "    print(i,\"ітеруємий:\",it(i))\n"
   ],
   "metadata": {
    "collapsed": false,
    "ExecuteTime": {
     "end_time": "2023-10-05T10:59:20.959433535Z",
     "start_time": "2023-10-05T10:59:20.948536170Z"
    }
   }
  },
  {
   "cell_type": "code",
   "execution_count": 7,
   "outputs": [
    {
     "ename": "TypeError",
     "evalue": "'str' object is not an iterator",
     "output_type": "error",
     "traceback": [
      "\u001B[0;31m---------------------------------------------------------------------------\u001B[0m",
      "\u001B[0;31mTypeError\u001B[0m                                 Traceback (most recent call last)",
      "Cell \u001B[0;32mIn[7], line 1\u001B[0m\n\u001B[0;32m----> 1\u001B[0m \u001B[38;5;28;43mnext\u001B[39;49m\u001B[43m(\u001B[49m\u001B[38;5;124;43m\"\u001B[39;49m\u001B[38;5;124;43mолло\u001B[39;49m\u001B[38;5;124;43m\"\u001B[39;49m\u001B[43m)\u001B[49m\n",
      "\u001B[0;31mTypeError\u001B[0m: 'str' object is not an iterator"
     ]
    }
   ],
   "source": [
    "next(\"олло\")\n"
   ],
   "metadata": {
    "collapsed": false,
    "ExecuteTime": {
     "end_time": "2023-10-05T11:00:45.543392431Z",
     "start_time": "2023-10-05T11:00:45.501453329Z"
    }
   }
  },
  {
   "cell_type": "code",
   "execution_count": 9,
   "outputs": [
    {
     "name": "stdout",
     "output_type": "stream",
     "text": [
      "<str_iterator object at 0x7fcd881c5ba0>\n",
      "о\n",
      "л\n",
      "л\n",
      "о\n"
     ]
    }
   ],
   "source": [
    "s=\"олло\"\n",
    "s=iter(s)\n",
    "print(s)\n",
    "print(next(s))\n",
    "print(next(s))\n",
    "print(next(s))\n",
    "print(next(s))"
   ],
   "metadata": {
    "collapsed": false,
    "ExecuteTime": {
     "end_time": "2023-10-05T11:03:40.085611951Z",
     "start_time": "2023-10-05T11:03:40.044154213Z"
    }
   }
  },
  {
   "cell_type": "markdown",
   "source": [],
   "metadata": {
    "collapsed": false
   }
  },
  {
   "cell_type": "code",
   "execution_count": null,
   "outputs": [],
   "source": [],
   "metadata": {
    "collapsed": false
   }
  },
  {
   "cell_type": "markdown",
   "source": [
    "### Рекомендації до перегляду\n",
    "[https://realpython.com/python-iterators-iterables/#working-with-iterables-in-python](https://realpython.com/python-iterators-iterables/#working-with-iterables-in-python)\n",
    "\n",
    "[https://realpython.com/python-zip-function](https://realpython.com/python-zip-function/)\n",
    "\n",
    "[https://docs.python.org/3/library/functions.html](https://docs.python.org/3/library/functions.html)\n"
   ],
   "metadata": {
    "collapsed": false
   }
  },
  {
   "cell_type": "markdown",
   "source": [
    "## Практичі завдання\n",
    "1. Реалізувати структури даних стек, яка може бути ітеруємою\n",
    "2. Напишіть функцію, яка приймає список чисел та повертає генератор, що містить лише парні числа.\n",
    "3. Напишіть функцію, яка об'єднує два списки в один і повертає генератор для ітерації цими об'єднаними значеннями.\n",
    "4. Напишіть функцію, яка приймає список та повертає генератор без дублікатів.\n",
    "5. Напишіть генератор, який зчитує рядки з текстового файлу один за одним і друкує їх.\n",
    "6. Напишіть генератор, який читає файл CSV і видає словники, що представляють кожен рядок.\n"
   ],
   "metadata": {
    "collapsed": false
   }
  }
 ],
 "metadata": {
  "kernelspec": {
   "display_name": "Python 3",
   "language": "python",
   "name": "python3"
  },
  "language_info": {
   "codemirror_mode": {
    "name": "ipython",
    "version": 2
   },
   "file_extension": ".py",
   "mimetype": "text/x-python",
   "name": "python",
   "nbconvert_exporter": "python",
   "pygments_lexer": "ipython2",
   "version": "2.7.6"
  }
 },
 "nbformat": 4,
 "nbformat_minor": 0
}
