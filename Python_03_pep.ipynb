{
 "cells": [
  {
   "cell_type": "markdown",
   "source": [
    "# pip, pep, jupyter notebook, venv"
   ],
   "metadata": {
    "collapsed": false
   }
  },
  {
   "cell_type": "markdown",
   "source": [
    "В цьому ноутбуці розглянемо такі компоненти як:\n",
    "\n",
    "* **virtualenv або venv** - дозволяє використовувати ізольовані залежності для конкретного проєкту\n",
    "* **pep** - інсталятор пакетів/модулів\n",
    "* **pip** - Python Enhancement Proposals - специфікація стандартів мови python\n",
    "* **jupiter notebook** - інтерактивна платформа для запуску jupyter-ноутбуків, які поєднують в собі код і дані.\n"
   ],
   "metadata": {
    "collapsed": false
   }
  },
  {
   "cell_type": "markdown",
   "source": [
    "## Залежності\n",
    "\n",
    "В python"
   ],
   "metadata": {
    "collapsed": false
   }
  },
  {
   "cell_type": "markdown",
   "source": [
    "## Virtualenv"
   ],
   "metadata": {
    "collapsed": false
   }
  },
  {
   "cell_type": "markdown",
   "source": [
    "Virtualenv - це умовний прошарок, що дозволяє ізолювати залежності (бібліотеки) від операційної системи для кожного проєкту. Я"
   ],
   "metadata": {
    "collapsed": false
   }
  },
  {
   "cell_type": "code",
   "execution_count": null,
   "outputs": [],
   "source": [],
   "metadata": {
    "collapsed": false
   }
  }
 ],
 "metadata": {
  "kernelspec": {
   "display_name": "Python 3",
   "language": "python",
   "name": "python3"
  },
  "language_info": {
   "codemirror_mode": {
    "name": "ipython",
    "version": 2
   },
   "file_extension": ".py",
   "mimetype": "text/x-python",
   "name": "python",
   "nbconvert_exporter": "python",
   "pygments_lexer": "ipython2",
   "version": "2.7.6"
  }
 },
 "nbformat": 4,
 "nbformat_minor": 0
}
